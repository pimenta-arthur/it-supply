{
 "cells": [
  {
   "cell_type": "markdown",
   "metadata": {},
   "source": [
    "# Task 1"
   ]
  },
  {
   "cell_type": "code",
   "execution_count": 76,
   "metadata": {},
   "outputs": [],
   "source": [
    "import glob\n",
    "import pandas as pd\n",
    "import numpy as np"
   ]
  },
  {
   "cell_type": "markdown",
   "metadata": {},
   "source": [
    "### List of files path\n",
    "List all files name in the current directory"
   ]
  },
  {
   "cell_type": "code",
   "execution_count": 77,
   "metadata": {},
   "outputs": [
    {
     "data": {
      "text/plain": [
       "['Tasks.ipynb',\n",
       " 'Test 1 - FedEx CSV Selectable Codes Dictionary (June _17).xls',\n",
       " 'Test 1 - FedEx Datatype Dictionary.xlsx',\n",
       " 'Test 2 - DHL Shipments Report.xlsx',\n",
       " 'ex.JPG',\n",
       " 'Test 1 - CSV.xlsx',\n",
       " 'Test 1 - FedEx Invoice 40519522111813.csv']"
      ]
     },
     "execution_count": 77,
     "metadata": {},
     "output_type": "execute_result"
    }
   ],
   "source": [
    "files = glob.glob(\"*\")\n",
    "files"
   ]
  },
  {
   "cell_type": "markdown",
   "metadata": {},
   "source": [
    "### Load dataframe\n",
    "Load the data using the file name"
   ]
  },
  {
   "cell_type": "code",
   "execution_count": 78,
   "metadata": {},
   "outputs": [],
   "source": [
    "df =  pd.read_excel('Test 1 - CSV.xlsx')"
   ]
  },
  {
   "cell_type": "code",
   "execution_count": 79,
   "metadata": {},
   "outputs": [
    {
     "data": {
      "text/html": [
       "<div>\n",
       "<style scoped>\n",
       "    .dataframe tbody tr th:only-of-type {\n",
       "        vertical-align: middle;\n",
       "    }\n",
       "\n",
       "    .dataframe tbody tr th {\n",
       "        vertical-align: top;\n",
       "    }\n",
       "\n",
       "    .dataframe thead th {\n",
       "        text-align: right;\n",
       "    }\n",
       "</style>\n",
       "<table border=\"1\" class=\"dataframe\">\n",
       "  <thead>\n",
       "    <tr style=\"text-align: right;\">\n",
       "      <th></th>\n",
       "      <th>Master EDI No</th>\n",
       "      <th>Invoice Number</th>\n",
       "      <th>Invoice Date</th>\n",
       "      <th>Type</th>\n",
       "      <th>Settle</th>\n",
       "      <th>Inv Charge</th>\n",
       "      <th>Trans Cnt</th>\n",
       "      <th>Bill-To Account</th>\n",
       "      <th>Cntry</th>\n",
       "      <th>Total VAT Amt</th>\n",
       "      <th>...</th>\n",
       "      <th>Orig Recip Adr 1</th>\n",
       "      <th>Orig Recip Adr 2</th>\n",
       "      <th>Original City</th>\n",
       "      <th>ST3</th>\n",
       "      <th>Postal3</th>\n",
       "      <th>VAT No</th>\n",
       "      <th>FedEx VAT No</th>\n",
       "      <th>Cross Ref No</th>\n",
       "      <th>Intl Ground Ship No</th>\n",
       "      <th></th>\n",
       "    </tr>\n",
       "  </thead>\n",
       "  <tbody>\n",
       "    <tr>\n",
       "      <th>0</th>\n",
       "      <td>887643512</td>\n",
       "      <td>512758053</td>\n",
       "      <td>20190408</td>\n",
       "      <td>O</td>\n",
       "      <td>I</td>\n",
       "      <td>21424.36</td>\n",
       "      <td>47</td>\n",
       "      <td>296159727</td>\n",
       "      <td>DK</td>\n",
       "      <td>521.75</td>\n",
       "      <td>...</td>\n",
       "      <td>NaN</td>\n",
       "      <td>NaN</td>\n",
       "      <td>NaN</td>\n",
       "      <td>NaN</td>\n",
       "      <td>NaN</td>\n",
       "      <td>DK26366313</td>\n",
       "      <td>DK 27 04 31 00</td>\n",
       "      <td>NaN</td>\n",
       "      <td>NaN</td>\n",
       "      <td>...</td>\n",
       "    </tr>\n",
       "    <tr>\n",
       "      <th>1</th>\n",
       "      <td>887643512</td>\n",
       "      <td>512758053</td>\n",
       "      <td>20190408</td>\n",
       "      <td>O</td>\n",
       "      <td>I</td>\n",
       "      <td>21424.36</td>\n",
       "      <td>47</td>\n",
       "      <td>296159727</td>\n",
       "      <td>DK</td>\n",
       "      <td>521.75</td>\n",
       "      <td>...</td>\n",
       "      <td>NaN</td>\n",
       "      <td>NaN</td>\n",
       "      <td>NaN</td>\n",
       "      <td>NaN</td>\n",
       "      <td>NaN</td>\n",
       "      <td>DK26366313</td>\n",
       "      <td>DK 27 04 31 00</td>\n",
       "      <td>NaN</td>\n",
       "      <td>NaN</td>\n",
       "      <td>...</td>\n",
       "    </tr>\n",
       "    <tr>\n",
       "      <th>2</th>\n",
       "      <td>887643512</td>\n",
       "      <td>512758053</td>\n",
       "      <td>20190408</td>\n",
       "      <td>O</td>\n",
       "      <td>I</td>\n",
       "      <td>21424.36</td>\n",
       "      <td>47</td>\n",
       "      <td>296159727</td>\n",
       "      <td>DK</td>\n",
       "      <td>521.75</td>\n",
       "      <td>...</td>\n",
       "      <td>NaN</td>\n",
       "      <td>NaN</td>\n",
       "      <td>NaN</td>\n",
       "      <td>NaN</td>\n",
       "      <td>NaN</td>\n",
       "      <td>DK26366313</td>\n",
       "      <td>DK 27 04 31 00</td>\n",
       "      <td>NaN</td>\n",
       "      <td>NaN</td>\n",
       "      <td>...</td>\n",
       "    </tr>\n",
       "    <tr>\n",
       "      <th>3</th>\n",
       "      <td>887643512</td>\n",
       "      <td>512758053</td>\n",
       "      <td>20190408</td>\n",
       "      <td>O</td>\n",
       "      <td>I</td>\n",
       "      <td>21424.36</td>\n",
       "      <td>47</td>\n",
       "      <td>296159727</td>\n",
       "      <td>DK</td>\n",
       "      <td>521.75</td>\n",
       "      <td>...</td>\n",
       "      <td>NaN</td>\n",
       "      <td>NaN</td>\n",
       "      <td>NaN</td>\n",
       "      <td>NaN</td>\n",
       "      <td>NaN</td>\n",
       "      <td>DK26366313</td>\n",
       "      <td>DK 27 04 31 00</td>\n",
       "      <td>NaN</td>\n",
       "      <td>NaN</td>\n",
       "      <td>...</td>\n",
       "    </tr>\n",
       "    <tr>\n",
       "      <th>4</th>\n",
       "      <td>887643512</td>\n",
       "      <td>512758053</td>\n",
       "      <td>20190408</td>\n",
       "      <td>O</td>\n",
       "      <td>I</td>\n",
       "      <td>21424.36</td>\n",
       "      <td>47</td>\n",
       "      <td>296159727</td>\n",
       "      <td>DK</td>\n",
       "      <td>521.75</td>\n",
       "      <td>...</td>\n",
       "      <td>NaN</td>\n",
       "      <td>NaN</td>\n",
       "      <td>NaN</td>\n",
       "      <td>NaN</td>\n",
       "      <td>NaN</td>\n",
       "      <td>DK26366313</td>\n",
       "      <td>DK 27 04 31 00</td>\n",
       "      <td>NaN</td>\n",
       "      <td>NaN</td>\n",
       "      <td>...</td>\n",
       "    </tr>\n",
       "  </tbody>\n",
       "</table>\n",
       "<p>5 rows × 151 columns</p>\n",
       "</div>"
      ],
      "text/plain": [
       "   Master EDI No  Invoice Number  Invoice Date Type Settle  Inv Charge  \\\n",
       "0      887643512       512758053      20190408    O      I    21424.36   \n",
       "1      887643512       512758053      20190408    O      I    21424.36   \n",
       "2      887643512       512758053      20190408    O      I    21424.36   \n",
       "3      887643512       512758053      20190408    O      I    21424.36   \n",
       "4      887643512       512758053      20190408    O      I    21424.36   \n",
       "\n",
       "   Trans Cnt  Bill-To Account Cntry  Total VAT Amt  \\\n",
       "0         47        296159727    DK         521.75   \n",
       "1         47        296159727    DK         521.75   \n",
       "2         47        296159727    DK         521.75   \n",
       "3         47        296159727    DK         521.75   \n",
       "4         47        296159727    DK         521.75   \n",
       "\n",
       "                         ...                         Orig Recip Adr 1  \\\n",
       "0                        ...                                      NaN   \n",
       "1                        ...                                      NaN   \n",
       "2                        ...                                      NaN   \n",
       "3                        ...                                      NaN   \n",
       "4                        ...                                      NaN   \n",
       "\n",
       "   Orig Recip Adr 2 Original City  ST3 Postal3      VAT No    FedEx VAT No  \\\n",
       "0               NaN           NaN  NaN     NaN  DK26366313  DK 27 04 31 00   \n",
       "1               NaN           NaN  NaN     NaN  DK26366313  DK 27 04 31 00   \n",
       "2               NaN           NaN  NaN     NaN  DK26366313  DK 27 04 31 00   \n",
       "3               NaN           NaN  NaN     NaN  DK26366313  DK 27 04 31 00   \n",
       "4               NaN           NaN  NaN     NaN  DK26366313  DK 27 04 31 00   \n",
       "\n",
       "   Cross Ref No  Intl Ground Ship No  \\\n",
       "0           NaN                  NaN   \n",
       "1           NaN                  NaN   \n",
       "2           NaN                  NaN   \n",
       "3           NaN                  NaN   \n",
       "4           NaN                  NaN   \n",
       "\n",
       "                                                      \n",
       "0                                                ...  \n",
       "1                                                ...  \n",
       "2                                                ...  \n",
       "3                                                ...  \n",
       "4                                                ...  \n",
       "\n",
       "[5 rows x 151 columns]"
      ]
     },
     "execution_count": 79,
     "metadata": {},
     "output_type": "execute_result"
    }
   ],
   "source": [
    "df.head()"
   ]
  },
  {
   "cell_type": "markdown",
   "metadata": {},
   "source": [
    "# Task 2"
   ]
  },
  {
   "cell_type": "code",
   "execution_count": 80,
   "metadata": {},
   "outputs": [],
   "source": [
    "import mechanize"
   ]
  },
  {
   "cell_type": "markdown",
   "metadata": {},
   "source": [
    "### Create browser object and open a webpage"
   ]
  },
  {
   "cell_type": "code",
   "execution_count": 81,
   "metadata": {
    "scrolled": false
   },
   "outputs": [],
   "source": [
    "url = 'https://dct.dhl.com/#shipping_options'\n",
    "br = mechanize.Browser()\n",
    "br.set_handle_robots(False) # ignore robots\n",
    "br.addheaders = [('User-agent', 'Mozilla/5.0 (Macintosh; Intel Mac OS X 10_13_4) AppleWebKit/537.36 (KHTML, like Gecko) Chrome/73.0.3683.103 Safari/537.36'),\n",
    "                 ('Accept', 'application/json'), \n",
    "                 ('Referer', 'https://dct.dhl.com/'),\n",
    "                 ('X-Requested-With', 'XMLHttpRequest')]\n",
    "resp = br.open(url)"
   ]
  },
  {
   "cell_type": "markdown",
   "metadata": {},
   "source": [
    "### List forms and controls in the page"
   ]
  },
  {
   "cell_type": "code",
   "execution_count": 82,
   "metadata": {},
   "outputs": [
    {
     "name": "stdout",
     "output_type": "stream",
     "text": [
      "None\n"
     ]
    }
   ],
   "source": [
    "for form in br.forms():\n",
    "    print(form.name)"
   ]
  },
  {
   "cell_type": "code",
   "execution_count": 83,
   "metadata": {},
   "outputs": [
    {
     "name": "stdout",
     "output_type": "stream",
     "text": [
      "name: locale_id, type: text, value: \n",
      "name: orgCtry, type: text, value: \n",
      "name: preOrgCtry, type: hidden, value: null\n",
      "name: orgZip, type: text, value: \n",
      "name: orgCity, type: text, value: \n",
      "name: orgSub, type: text, value: \n",
      "name: check, type: text, value: \n",
      "name: dstCtry, type: text, value: \n",
      "name: preDstCtry, type: hidden, value: null\n",
      "name: dstZip, type: text, value: \n",
      "name: dstCity, type: text, value: \n",
      "name: dstSub, type: text, value: \n",
      "name: shpDate, type: text, value: \n",
      "name: dtbl, type: checkbox, value: []\n",
      "name: declVal, type: text, value: \n",
      "name: declValCur, type: text, value: \n",
      "name: number_of_pieces, type: text, value: \n",
      "name: dimUom, type: text, value: \n",
      "name: wgtUom, type: text, value: \n",
      "name: weight, type: text, value: \n",
      "name: length, type: text, value: \n",
      "name: width, type: text, value: \n",
      "name: height, type: text, value: \n"
     ]
    }
   ],
   "source": [
    "br.form = list(br.forms())[0] # form is unnamed\n",
    "for control in br.form.controls:\n",
    "    print(f'name: {control.name}, type: {control.type}, value: {control.value}')"
   ]
  },
  {
   "cell_type": "markdown",
   "metadata": {},
   "source": [
    "### Search example 1\n",
    "Fill the fields"
   ]
  },
  {
   "cell_type": "code",
   "execution_count": 84,
   "metadata": {},
   "outputs": [
    {
     "name": "stdout",
     "output_type": "stream",
     "text": [
      "FROM\n",
      "Origin Country/Region: BRAZIL (BR)\n",
      "Origin city: JUIZ DE FORA\n",
      "\n",
      "TO\n",
      "Destination Country/Region: CANADA (CA)\n",
      "Destination city: TORONTO\n"
     ]
    }
   ],
   "source": [
    "control_orgCtry = br.form.find_control('orgCtry')\n",
    "control_orgCtry.value = 'BRAZIL (BR)'\n",
    "control_orgCity = br.form.find_control('orgCity')\n",
    "control_orgCity.value = 'JUIZ DE FORA'\n",
    "control_dstCtry = br.form.find_control('dstCtry')\n",
    "control_dstCtry.value = 'CANADA (CA)'\n",
    "control_dstCity = br.form.find_control('dstCity')\n",
    "br.form['dstCity'] = 'TORONTO'\n",
    "print('FROM')\n",
    "print(f'Origin Country/Region: {control_orgCtry.value}')\n",
    "print(f'Origin city: {control_orgCity.value}')\n",
    "print()\n",
    "print('TO')\n",
    "print(f'Destination Country/Region: {control_dstCtry.value}')\n",
    "print(f'Destination city: {control_dstCity.value}')"
   ]
  },
  {
   "cell_type": "markdown",
   "metadata": {},
   "source": [
    "Search request"
   ]
  },
  {
   "cell_type": "code",
   "execution_count": 85,
   "metadata": {},
   "outputs": [
    {
     "name": "stdout",
     "output_type": "stream",
     "text": [
      "b'<html><head><title>Request Rejected</title></head><body>The requested URL was rejected. Please consult with your administrator.<br><br>Your support ID is: 4713007196760748556</body></html>'\n"
     ]
    }
   ],
   "source": [
    "response = br.submit()\n",
    "print(response.read())"
   ]
  },
  {
   "cell_type": "code",
   "execution_count": null,
   "metadata": {},
   "outputs": [],
   "source": []
  }
 ],
 "metadata": {
  "kernelspec": {
   "display_name": "Python 3",
   "language": "python",
   "name": "python3"
  },
  "language_info": {
   "codemirror_mode": {
    "name": "ipython",
    "version": 3
   },
   "file_extension": ".py",
   "mimetype": "text/x-python",
   "name": "python",
   "nbconvert_exporter": "python",
   "pygments_lexer": "ipython3",
   "version": "3.7.0"
  }
 },
 "nbformat": 4,
 "nbformat_minor": 2
}
